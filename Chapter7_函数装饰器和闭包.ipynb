{
 "cells": [
  {
   "cell_type": "markdown",
   "metadata": {},
   "source": [
    "# 装饰器基础\n",
    "首先，装饰器是可调用的对象，参数为被装饰的函数。装饰器用于给函数或对象动态的添加一些额外的功能，其最常见的实现方式是在装饰器内部定义一个函数实现对被装饰函数的功能增强并返回一个可调用对象来替代原函数或对象。"
   ]
  },
  {
   "cell_type": "code",
   "execution_count": 2,
   "metadata": {},
   "outputs": [
    {
     "name": "stdout",
     "output_type": "stream",
     "text": [
      "running inner()\n",
      "None\n",
      "<function deco.<locals>.inner at 0x0000023BAAD7A510>\n"
     ]
    }
   ],
   "source": [
    "def deco(func):\n",
    "    def inner():\n",
    "        print(\"running inner()\")\n",
    "    return inner # 返回一个函数\n",
    "\n",
    "@deco\n",
    "def target():\n",
    "    print('running target()')\n",
    "    \n",
    "print(target())\n",
    "print(target) # target被替换为inner函数"
   ]
  },
  {
   "cell_type": "markdown",
   "metadata": {},
   "source": [
    "python中的@decorator的方式只是语法糖，上述写法其实也可以写为：target = deco(target)。  \n",
    "\n",
    "虽然一般情况下，装饰器不会返回原函数，但是这种行为可以用于注册函数，如Web框架将URL处理函数添加到中央注册处。对于第6章的策略收集问题就可利用装饰器对策略进行收集而无需使用内省（需要强制将策略写在一个模块里，或是通过限制其名称利用globals()收集）。\n",
    "## 装饰器运行时间\n",
    "装饰器的另一特性是，在被装饰函数定义后立刻执行，也就是加载模块时。"
   ]
  },
  {
   "cell_type": "markdown",
   "metadata": {},
   "source": [
    "# 闭包与对象作用域\n",
    "由于一般情况下，函数装饰器在内部会重新定义一个‘增强’版的函数来返回替代原函数，因此这种嵌套一般说来都会用到闭包的特性。了解闭包前需要了解对象作用域规则。\n",
    "## 对象作用域规则\n",
    "对于函数体内赋值的变量，python将其视为局部变量。"
   ]
  },
  {
   "cell_type": "code",
   "execution_count": 3,
   "metadata": {},
   "outputs": [
    {
     "name": "stdout",
     "output_type": "stream",
     "text": [
      "3\n"
     ]
    },
    {
     "ename": "UnboundLocalError",
     "evalue": "local variable 'b' referenced before assignment",
     "output_type": "error",
     "traceback": [
      "\u001b[1;31m---------------------------------------------------------------------------\u001b[0m",
      "\u001b[1;31mUnboundLocalError\u001b[0m                         Traceback (most recent call last)",
      "\u001b[1;32m<ipython-input-3-acb6b8892c77>\u001b[0m in \u001b[0;36m<module>\u001b[1;34m()\u001b[0m\n\u001b[0;32m      4\u001b[0m     \u001b[0mprint\u001b[0m\u001b[1;33m(\u001b[0m\u001b[0mb\u001b[0m\u001b[1;33m)\u001b[0m\u001b[1;33m\u001b[0m\u001b[0m\n\u001b[0;32m      5\u001b[0m     \u001b[0mb\u001b[0m \u001b[1;33m=\u001b[0m \u001b[1;36m9\u001b[0m\u001b[1;33m\u001b[0m\u001b[0m\n\u001b[1;32m----> 6\u001b[1;33m \u001b[0mf2\u001b[0m\u001b[1;33m(\u001b[0m\u001b[1;36m3\u001b[0m\u001b[1;33m)\u001b[0m\u001b[1;33m\u001b[0m\u001b[0m\n\u001b[0m",
      "\u001b[1;32m<ipython-input-3-acb6b8892c77>\u001b[0m in \u001b[0;36mf2\u001b[1;34m(a)\u001b[0m\n\u001b[0;32m      2\u001b[0m \u001b[1;32mdef\u001b[0m \u001b[0mf2\u001b[0m\u001b[1;33m(\u001b[0m\u001b[0ma\u001b[0m\u001b[1;33m)\u001b[0m\u001b[1;33m:\u001b[0m\u001b[1;33m\u001b[0m\u001b[0m\n\u001b[0;32m      3\u001b[0m     \u001b[0mprint\u001b[0m\u001b[1;33m(\u001b[0m\u001b[0ma\u001b[0m\u001b[1;33m)\u001b[0m\u001b[1;33m\u001b[0m\u001b[0m\n\u001b[1;32m----> 4\u001b[1;33m     \u001b[0mprint\u001b[0m\u001b[1;33m(\u001b[0m\u001b[0mb\u001b[0m\u001b[1;33m)\u001b[0m\u001b[1;33m\u001b[0m\u001b[0m\n\u001b[0m\u001b[0;32m      5\u001b[0m     \u001b[0mb\u001b[0m \u001b[1;33m=\u001b[0m \u001b[1;36m9\u001b[0m\u001b[1;33m\u001b[0m\u001b[0m\n\u001b[0;32m      6\u001b[0m \u001b[0mf2\u001b[0m\u001b[1;33m(\u001b[0m\u001b[1;36m3\u001b[0m\u001b[1;33m)\u001b[0m\u001b[1;33m\u001b[0m\u001b[0m\n",
      "\u001b[1;31mUnboundLocalError\u001b[0m: local variable 'b' referenced before assignment"
     ]
    }
   ],
   "source": [
    "b = 6\n",
    "def f2(a):\n",
    "    print(a)\n",
    "    print(b)\n",
    "    b = 9\n",
    "f2(3)"
   ]
  },
  {
   "cell_type": "markdown",
   "metadata": {},
   "source": [
    "#### 上述示例中，由于f2定义中有对b的赋值，python首先认为b是f2的局部变量，当运行时由于在b赋值前就需要读取b的值，因此会报错。\n",
    "这种行为对应与js中需要var声明才将变量视为局部变量。但js在函数内可能忘记声明局部变量，可能误获取全局变量并对其赋值。python相当于强制如果想对全局变量进行赋值则必须使用global声明（否则被视为局部变量）。\n",
    "# 闭包\n",
    "闭包是指延伸了作用域的函数，其中包含函数定义体内引用的但没在函数体内定义的__非全局变量__，由此说来，类内定义的函数也算闭包，虽然不能直接调用，但是可以使用没在函数体内定义的非全局变量（实例变量或类变量）"
   ]
  },
  {
   "cell_type": "code",
   "execution_count": 1,
   "metadata": {},
   "outputs": [
    {
     "name": "stdout",
     "output_type": "stream",
     "text": [
      "10.0\n",
      "10.5\n",
      "10.0\n",
      "10.5\n"
     ]
    }
   ],
   "source": [
    "class Averager():\n",
    "    def __init__(self):\n",
    "        self.series = []\n",
    "    \n",
    "    def __call__(self, new_value):\n",
    "        self.series.append(new_value)\n",
    "        total = sum(self.series)\n",
    "        return total / len(self.series)\n",
    "    \n",
    "def make_averager():\n",
    "    series = []\n",
    "    \n",
    "    def averager(new_value):\n",
    "        series.append(new_value)\n",
    "        total = sum(series)\n",
    "        return total / len(series)\n",
    "    \n",
    "    return averager\n",
    "\n",
    "avg1 = Averager()\n",
    "print(avg1(10))\n",
    "print(avg1(11))\n",
    "\n",
    "avg2 = make_averager()\n",
    "print(avg2(10))\n",
    "print(avg2(11))"
   ]
  },
  {
   "cell_type": "markdown",
   "metadata": {},
   "source": [
    "## 自由变量\n",
    "第一个使用类来维护历史数据，每次只需要调用Averager的可调用实例即可返回平均值。\n",
    "\n",
    "第二个使用闭包，按理说嵌套的averager的函数被返回后，其外层的make_average的本地作用域也就消失了，__但是这里make_average的series变量仍然存在（非全局变量）且会作为自由变量被绑定到使用它的内层嵌套函数averager上__。\n",
    "\n",
    "闭包其实是一种函数，它会保留定义在函数内存在的自由变量的绑定（延伸作用域的非全局变量），虽然自由变量的定义域消失了但仍可使用。"
   ]
  },
  {
   "cell_type": "code",
   "execution_count": 4,
   "metadata": {},
   "outputs": [
    {
     "name": "stdout",
     "output_type": "stream",
     "text": [
      "('new_value', 'total')\n",
      "('series',)\n",
      "<cell at 0x00000174F91603D8: list object at 0x00000174F917DE08>\n",
      "[10, 11]\n"
     ]
    }
   ],
   "source": [
    "print(avg2.__code__.co_varnames) # 打印编译后的函数定义体的局部变量名属性\n",
    "print(avg2.__code__.co_freevars) # 打印编译后的函数定义体的自由变量名属性\n",
    "print(avg2.__closure__[0]) # __closure__属性保存cell对象组成的list \n",
    "print(avg2.__closure__[0].cell_contents) # cell对象的cell_contents属性保存着自有变量的值"
   ]
  },
  {
   "cell_type": "markdown",
   "metadata": {},
   "source": [
    "## nonlocal\n",
    "用于标记自由变量，有时候需要声明变量为自由变量，否在在函数内需要对自由变量赋值会被python当做本地变量。nonlocal的作用和global声明类似，就是为了能对自由变量或全局变量赋值而不会被当做局部变量看待。"
   ]
  },
  {
   "cell_type": "code",
   "execution_count": 5,
   "metadata": {},
   "outputs": [],
   "source": [
    "# 改进均值函数的闭包形式，只记录个数和总和值即可\n",
    "def make_averager():\n",
    "    count = 0\n",
    "    total = 0\n",
    "    def averager(new_value):\n",
    "        # 这里如果不做自由变量声明，下面的赋值语句如count = count + 1会将count作为局部变量处理，运行时由于赋值表达式有对count的引用就会报错UnboundLocalError（）。\n",
    "        nonlocal count, total\n",
    "        count += 1\n",
    "        total += new_value\n",
    "        return total / new_value\n",
    "    \n",
    "    return averager"
   ]
  },
  {
   "cell_type": "markdown",
   "metadata": {},
   "source": [
    "# 常见装饰器行为\n",
    "最常见的实现方式是在装饰器内部定义一个函数实现对被装饰函数的功能增强,且其返回值和原函数一致，然后返回这个函数来替代原函数或对象。"
   ]
  },
  {
   "cell_type": "code",
   "execution_count": 13,
   "metadata": {},
   "outputs": [
    {
     "name": "stdout",
     "output_type": "stream",
     "text": [
      "[0.13483509s] snooze(0.123) -> None\n",
      "[0.00000154s] factorial(1) -> 1\n",
      "[0.00207370s] factorial(2) -> 2\n",
      "[0.00401940s] factorial(3) -> 6\n",
      "[0.00594093s] factorial(4) -> 24\n",
      "[0.00786864s] factorial(5) -> 120\n",
      "[0.00979789s] factorial(6) -> 720\n"
     ]
    },
    {
     "data": {
      "text/plain": [
       "720"
      ]
     },
     "execution_count": 13,
     "metadata": {},
     "output_type": "execute_result"
    }
   ],
   "source": [
    "# 计时器装饰器\n",
    "import time\n",
    "import functools\n",
    "\n",
    "def clock(func):\n",
    "    # 该含参数装饰器（后面会讲）会讲传入的函数的__name__和__doc__属性复制给被装饰的函数，这样返回的函数拥有和原函数一样的信息属性。\n",
    "    @functools.wraps(func)\n",
    "    # 函数对传入的原函数做增强，返回自身替代原函数，这里需注意,可支持全部类型形参。\n",
    "    def clocked(*args, **kwargs):\n",
    "        start = time.perf_counter()\n",
    "        result = func(*args, **kwargs)\n",
    "        elapsed = time.perf_counter() - start\n",
    "        \n",
    "        name = func.__name__\n",
    "        # 参入的参数值\n",
    "        arg_str = ', '.join(repr(arg) for arg in args)\n",
    "        print('[%0.8fs] %s(%s) -> %r' % (elapsed, name, arg_str, result))\n",
    "        return result\n",
    "    return clocked\n",
    "\n",
    "@clock\n",
    "def snooze(seconds):\n",
    "    time.sleep(seconds)\n",
    "    \n",
    "@clock\n",
    "def factorial(n):\n",
    "    if n < 2:\n",
    "        return n\n",
    "    else:\n",
    "        return n * factorial(n-1)\n",
    "\n",
    "snooze(.123)\n",
    "factorial(6)"
   ]
  },
  {
   "cell_type": "markdown",
   "metadata": {},
   "source": [
    "# 标准库中的装饰器\n",
    "property、classmethod、staticmethod会在后面讨论，这里主要讨论functools中常用的wraps、lru_cache、singledispatch。\n",
    "## lru_cache\n",
    "主要用与保存最近的函数执行结果，相当于一个最近使用缓存，当传入的形参之前计算过，则会直接返回对应结果无需再次执行函数。"
   ]
  },
  {
   "cell_type": "code",
   "execution_count": 14,
   "metadata": {},
   "outputs": [
    {
     "name": "stdout",
     "output_type": "stream",
     "text": [
      "[0.00000051s] fibonacci(0) -> 0\n",
      "[0.00000103s] fibonacci(1) -> 1\n",
      "[0.00008688s] fibonacci(2) -> 1\n",
      "[0.00000051s] fibonacci(1) -> 1\n",
      "[0.00000103s] fibonacci(0) -> 0\n",
      "[0.00000103s] fibonacci(1) -> 1\n",
      "[0.00004267s] fibonacci(2) -> 1\n",
      "[0.00008019s] fibonacci(3) -> 2\n",
      "[0.00021230s] fibonacci(4) -> 3\n",
      "[0.00000051s] fibonacci(1) -> 1\n",
      "[0.00000051s] fibonacci(0) -> 0\n",
      "[0.00000051s] fibonacci(1) -> 1\n",
      "[0.00004678s] fibonacci(2) -> 1\n",
      "[0.00009099s] fibonacci(3) -> 2\n",
      "[0.00000051s] fibonacci(0) -> 0\n",
      "[0.00000051s] fibonacci(1) -> 1\n",
      "[0.00003187s] fibonacci(2) -> 1\n",
      "[0.00000000s] fibonacci(1) -> 1\n",
      "[0.00000103s] fibonacci(0) -> 0\n",
      "[0.00000051s] fibonacci(1) -> 1\n",
      "[0.00005552s] fibonacci(2) -> 1\n",
      "[0.00009921s] fibonacci(3) -> 2\n",
      "[0.00015987s] fibonacci(4) -> 3\n",
      "[0.00029764s] fibonacci(5) -> 5\n",
      "[0.00080604s] fibonacci(6) -> 8\n"
     ]
    },
    {
     "data": {
      "text/plain": [
       "8"
      ]
     },
     "execution_count": 14,
     "metadata": {},
     "output_type": "execute_result"
    }
   ],
   "source": [
    "# fibonacci数列的第n项:1,1,2,3,5,8...。当前元素值为前其两个元素值和。\n",
    "\n",
    "@clock\n",
    "def fibonacci(n):\n",
    "    if n < 2:\n",
    "        return n\n",
    "    else:\n",
    "        # 非常直观的写法，但是由于利用迭代，会带来大量重复计算的问题。\n",
    "        return fibonacci(n-2) + fibonacci(n-1)\n",
    "    \n",
    "fibonacci(6)"
   ]
  },
  {
   "cell_type": "code",
   "execution_count": 16,
   "metadata": {},
   "outputs": [
    {
     "name": "stdout",
     "output_type": "stream",
     "text": [
      "[0.00000103s] fibonacci(0) -> 0\n",
      "[0.00000103s] fibonacci(1) -> 1\n",
      "[0.00011669s] fibonacci(2) -> 1\n",
      "[0.00000154s] fibonacci(3) -> 2\n",
      "[0.00043129s] fibonacci(4) -> 3\n",
      "[0.00000206s] fibonacci(5) -> 5\n",
      "[0.00049658s] fibonacci(6) -> 8\n"
     ]
    },
    {
     "data": {
      "text/plain": [
       "8"
      ]
     },
     "execution_count": 16,
     "metadata": {},
     "output_type": "execute_result"
    }
   ],
   "source": [
    "# 可使用lru_cache缓存解决该问题\n",
    "@functools.lru_cache()\n",
    "@clock\n",
    "def fibonacci(n):\n",
    "    if n < 2:\n",
    "        return n\n",
    "    else:\n",
    "        return fibonacci(n-2) + fibonacci(n-1)\n",
    "    \n",
    "fibonacci(6)"
   ]
  },
  {
   "cell_type": "markdown",
   "metadata": {},
   "source": [
    "lru_cache接受两个参数functools.lru_cache(maxsize=128, typed=False)，typed相当于区分形参的类型，如1和1.0将被视为不同的形参而将结果分开缓存 \n",
    "__lru_cache使用字典存储形参和对应结果，由于依赖于函数的全部形参（多半使用形参值元组，因此需要全部可散列），因此需要函数的所有参数都必须可散列。__\n",
    "## 叠放装饰器\n",
    "上面示例中使用了叠加装饰器，相当于fibonacci = functools.lru_cache()(clock(fibonacci))。当使用叠加装饰器是往往需要装饰器中返回的增强函数的返回值和被装饰的函数一致，这样一来增强函数便可完全替代被装饰函数，这样才能使用多层装饰器叠加。 "
   ]
  },
  {
   "cell_type": "markdown",
   "metadata": {},
   "source": [
    "## singledispatch\n",
    "有时函数希望根据传入传入参数的类型来做不同的处理，一种在python中常用的做法是利用if else去调用不同的分支函数，但随着分派函数的增加会使得函数体积迅速增加，同时也加剧了其和分派函数的耦合，显得很笨拙，因此利用单分派装饰器就可以解决此问题。\n",
    "\n",
    "单分派泛函数，有些类似于Java中的函数重载，由于python不支持函数重载因此可利用此装饰器来实现，不过只能依据第一个参数类型的不同来调用不同的函数。\n",
    "#### 另外由于利用了装饰器，因此不同的分派函数可以写在不同的模块中，这样一来相比于java类函数的重载，其使用更加灵活。\n",
    "使用单分派装饰器时，形参类型尽量使用基类以支持未来的子类或实现类类型的对象。"
   ]
  },
  {
   "cell_type": "code",
   "execution_count": 18,
   "metadata": {},
   "outputs": [],
   "source": [
    "from functools import singledispatch\n",
    "from collections import abc\n",
    "import numbers\n",
    "import html\n",
    "\n",
    "# 将传入的对象转换成html代码\n",
    "@functools.singledispatch\n",
    "def himlize(obj):\n",
    "    content = html.escape(repr(obj))\n",
    "    return '<pre>{}</pre>'.format(content)\n",
    "\n",
    "@himlize.register(str)\n",
    "def _(text):\n",
    "    content = html.escape(text).replace('\\n', '<br>\\n')\n",
    "    return '<pre>{0}</pre>'.format(content)\n",
    "\n",
    "@himlize.register(numbers.Integral)\n",
    "def _(n):\n",
    "    return '<pre>{0}(0x{0:x})</pre>'.format(n)\n",
    "\n",
    "# 实现对大部分Iterable的列表html生成\n",
    "@himlize.register(tuple)\n",
    "@himlize.register(abc.MutableSequence)\n",
    "def _(seq):\n",
    "    inner = '</li>\\n<li>'.join(htmlize(item) for item in seq)"
   ]
  },
  {
   "cell_type": "markdown",
   "metadata": {},
   "source": [
    "# 带形参的装饰器\n",
    "构建带参数的装饰器实际上需要创建装饰器工厂函数，通过对装饰器工厂函数的调用来来创建真正的装饰器函数。这里将之前使用的clock装饰器改为带参数的装饰器。"
   ]
  },
  {
   "cell_type": "code",
   "execution_count": 8,
   "metadata": {},
   "outputs": [
    {
     "name": "stdout",
     "output_type": "stream",
     "text": [
      "[0.13305879s] snooze(0.123, ) -> None\n",
      "[0.12504601s] snooze(0.123, ) -> None\n",
      "[0.12340951s] snooze(0.123, ) -> None\n"
     ]
    }
   ],
   "source": [
    "import time\n",
    "import functools\n",
    "\n",
    "def clock(fmt='[{elapsed:0.8f}s] {name}({args}) -> {result}'):\n",
    "    def decorate(func):\n",
    "        @functools.wraps(func)\n",
    "        def clocked(*args, **kwargs):\n",
    "            _t = time.time()\n",
    "            _result = func(*args, *kwargs)\n",
    "            elapsed = time.time() - _t\n",
    "            name = func.__name__\n",
    "            args = ', '.join(repr(arg) for arg in args) + ', ' + ', '.join(repr(k)+\": \"+repr(v) for k, v in kwargs.items())\n",
    "            result = repr(_result)\n",
    "            # locals()获取本地变量明和值的映射,可用于关键字参数拆包\n",
    "            print(fmt.format(**locals()))\n",
    "            return _result\n",
    "        return clocked\n",
    "    return decorate\n",
    "\n",
    "# 这里必须调用装饰器工场方法返回内部嵌套的装饰器函数。返回的装饰器会立刻运行，相当于snooze = clock()(snooze)。\n",
    "@clock()\n",
    "def snooze(seconds):\n",
    "    time.sleep(seconds)\n",
    "    \n",
    "for i in range(3):\n",
    "    snooze(0.123)"
   ]
  },
  {
   "cell_type": "code",
   "execution_count": 12,
   "metadata": {},
   "outputs": [
    {
     "data": {
      "text/plain": [
       "('fmt', 'func')"
      ]
     },
     "execution_count": 12,
     "metadata": {},
     "output_type": "execute_result"
    }
   ],
   "source": [
    "# snoozed 自由变量绑定情况，fmt无需定义在全局环境内同时在使用参数装饰器的时候指定即可。\n",
    "snooze.__code__.co_freevars"
   ]
  },
  {
   "cell_type": "markdown",
   "metadata": {},
   "source": [
    "#### 创建带参数的装饰器往往需要多一层嵌套来返回真正的装饰器函数，另外由于装饰器多使用嵌套，因此经常以闭包的形式增强原函数的功能（增加了自由变量属性）同时不会对全局环境造成“污染”。\n",
    "#### 另一方面，当使用叠加装饰器时往往需要装饰器中返回的增强函数的返回值和被装饰的函数一致，这样一来增强函数便可完全替代被装饰函数，这样才能使用多层装饰器叠加。 \n",
    "装饰器的实现最好通过实现\\__call__方法的类实现。"
   ]
  }
 ],
 "metadata": {
  "kernelspec": {
   "display_name": "Python 3",
   "language": "python",
   "name": "python3"
  },
  "language_info": {
   "codemirror_mode": {
    "name": "ipython",
    "version": 3
   },
   "file_extension": ".py",
   "mimetype": "text/x-python",
   "name": "python",
   "nbconvert_exporter": "python",
   "pygments_lexer": "ipython3",
   "version": "3.6.5"
  }
 },
 "nbformat": 4,
 "nbformat_minor": 2
}
