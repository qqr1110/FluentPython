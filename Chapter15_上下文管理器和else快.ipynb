{
 "cells": [
  {
   "cell_type": "markdown",
   "metadata": {},
   "source": [
    "# else代码块\n",
    "这里else指的是非if中使用的else，而是在for/while/try语句中使用的else，其含义其实更接近于‘then’：  \n",
    "1.for：仅当for循环正常结束时（无breake强行终止）才执行else中的内容。\n",
    "2.while：仅当while正常结束时（循环条件为假而退出而无breake强行终止）才执行else中的内容。  \n",
    "3.try：无异常抛出时运行else中的内容。  \n",
    "#### else块意味着上述情况正常执行完毕后才执行的内容，当有类似需求时就能节省不必要的if判断与临时变量代码。\n",
    "## 举例\n",
    "比如需要某句或几句代码执行无误后再执行某些代码，使用try/else能清楚的表明防御的代码以及与后续代码的因果关系。"
   ]
  },
  {
   "cell_type": "code",
   "execution_count": null,
   "metadata": {},
   "outputs": [],
   "source": [
    "# 明确说明的仅防御dangerous_call()，无误时才能执行after_call()，如果将两者都放在try中会不够清晰。\n",
    "try:\n",
    "    dangerous_call()\n",
    "except OSError:\n",
    "    log('OSError...')\n",
    "else:\n",
    "    after_call()"
   ]
  },
  {
   "cell_type": "markdown",
   "metadata": {},
   "source": [
    "# EAFP/LBYL风格\n",
    "## EAFP\n",
    "python中try/except不仅用于处理错误，还常常用于控制流程。在EAFP编程风格中，一般先假定存在有效的对象（鸭子类型），如果假定不成立则给出明确错误信息，或者利用try/except执行备选方案（也可用来给出明确错误信息）。这种编程风格充分利用了python协议的优势，两个对象即便没有继承或同类型关系也能实现相同的功能。\n",
    "## LBYL\n",
    "LBYL风格则倾向于严格的类型检查或其他条件检查，java中使用较多，由于其严格的类型关系（形参有明确的类型声明等）。这种风格会使用较多的if/else来提前检验前置条件。  \n",
    "## 推荐\n",
    "使用EAFP风格的代码较为明确清晰，没有较多if/else语句对程序逻辑的干扰。\n",
    "# 上下文管理器和with块\n",
    "上下文管理器对象目的是管理with语句，就像迭代器对象是为了管理for语句（两种情况下python解释器会调用相关协议方法得到对象）。with语句本身的目的是为了简化try/finally模式。\n",
    "## 上下文管理器协议\n",
    "上下文管理器协议，需要实现\\__enter__和\\__exit__方法。__执行with后的表达式时得到上下文管理器对象__，该对象的\\__enter__方法用于封装在进入with块时的准备逻辑，同时提供一个对象给as后面的引用（as是可选的），该引用常常作为工具对象使用。\\__exit__方法用于无论以何种方式退出with块都会被执行的逻辑。"
   ]
  },
  {
   "cell_type": "code",
   "execution_count": 1,
   "metadata": {},
   "outputs": [],
   "source": [
    "class LookingClass:\n",
    "    \n",
    "    def __enter__(self):\n",
    "        import sys\n",
    "        # 保存默认标准写方法引用\n",
    "        self.original_write = sys.stdout.write\n",
    "        sys.stdout.write = self.reverse_write\n",
    "        return 'JABBERWOCKY'\n",
    "    \n",
    "    # 包装器模式\n",
    "    def reverse_write(self, text):\n",
    "        # 使用original_write写入反向文本\n",
    "        self.original_write(text[::-1])\n",
    "        \n",
    "    # with块中出现异常时会传给上下文管理器，exc_type代表异常类，exc_value代表异常对象，traceback对象。\n",
    "    def __exit__(self, exc_type, exc_value, traceback):\n",
    "        import sys\n",
    "        # 恢复\n",
    "        sys.stdout.write = self.original_write\n",
    "        # 仅仅解决除0异常\n",
    "        if exc_type is ZeroDivisionError:\n",
    "            print('Please DO NOT divide by zero!')\n",
    "            # 如果with块中出现异常，返回True告诉python解释器异常被解决，否则会向上冒泡异常。\n",
    "            return True"
   ]
  },
  {
   "cell_type": "code",
   "execution_count": 3,
   "metadata": {},
   "outputs": [
    {
     "name": "stdout",
     "output_type": "stream",
     "text": [
      "ecilA\n",
      "YKCOWREBBAJ\n",
      "JABBERWOCKY\n"
     ]
    }
   ],
   "source": [
    "with LookingClass() as what:\n",
    "    print('Alice')\n",
    "    print(what)\n",
    "print(what)"
   ]
  },
  {
   "cell_type": "code",
   "execution_count": 2,
   "metadata": {},
   "outputs": [
    {
     "name": "stdout",
     "output_type": "stream",
     "text": [
      "ecilA\n",
      "YKCOWREBBAJ\n",
      "JABBERWOCKY\n"
     ]
    }
   ],
   "source": [
    "# 上面调用等价于\n",
    "manager = LookingClass()\n",
    "what = manager.__enter__()\n",
    "print('Alice')\n",
    "print(what)\n",
    "manager.__exit__(None, None, None)\n",
    "print(what)"
   ]
  },
  {
   "cell_type": "markdown",
   "metadata": {},
   "source": [
    "# contextlib中实用的上下文管理器\n",
    "主要介绍@contextmanager，__该装饰器可用于创建上下文管理器对象，将生成器函数（生成器对象工厂）包装为上下文管理器类__。该类的\\__enter__方法会使用next迭代生成器函数产生的生成器对象，并返回yield表达式对应的值。该类的\\__exit__方法继续迭代生成器对象，完成剩余执行逻辑代码，当存在异常时（形参exc_type不为None）会调用生成器对象的的throw方法，使异常在生成器函数定义体中的yield行被抛出（协程？）。"
   ]
  },
  {
   "cell_type": "code",
   "execution_count": 7,
   "metadata": {},
   "outputs": [
    {
     "name": "stdout",
     "output_type": "stream",
     "text": [
      "ecilA\n",
      "YKCOWREBBAJ\n",
      "JABBERWOCKY\n"
     ]
    }
   ],
   "source": [
    "import contextlib\n",
    "\n",
    "@contextlib.contextmanager\n",
    "def looking_glass():\n",
    "    import sys\n",
    "    original_write = sys.stdout.write\n",
    "    \n",
    "    # 包装器模式\n",
    "    def reverse_write(text):\n",
    "        # 使用original_write写入反向文本\n",
    "        original_write(text[::-1])\n",
    "        \n",
    "    sys.stdout.write = reverse_write\n",
    "    # 当with块中出现异常而退出时，在yield处捕获该异常\n",
    "    msg = ''\n",
    "    try:\n",
    "        yield 'JABBERWOCKY'\n",
    "    except ZeroDivisionError:\n",
    "        msg = 'Please DO NOT divide by zero!'\n",
    "    finally:\n",
    "        # 由于无法得知with块是否以抛出异常结束，因此相当于__exit__的部分只能写在finally中\n",
    "        sys.stdout.write = original_write\n",
    "        if msg:\n",
    "            print(msg)\n",
    "        # 如果未解决异常，可以继续抛出，否则python解释器认为异常已被处理（不像__exit__方法，默认没处理异常）。\n",
    "        else:\n",
    "            raise sys.exc_info()[1]\n",
    "    \n",
    "# 这里使用looking_glass()产生上下文管理器对象\n",
    "with looking_glass() as what:\n",
    "    print('Alice')\n",
    "    print(what)\n",
    "print(what)"
   ]
  },
  {
   "cell_type": "markdown",
   "metadata": {},
   "source": [
    "感觉还是使用上下文管理器类更加清晰，使用生成器函数代替反而看上去十分笨拙"
   ]
  },
  {
   "cell_type": "markdown",
   "metadata": {},
   "source": [
    "# 杂谈\n",
    "with块相当于一段执行代码的前后执行逻辑封装器。"
   ]
  }
 ],
 "metadata": {
  "kernelspec": {
   "display_name": "Python 3",
   "language": "python",
   "name": "python3"
  },
  "language_info": {
   "codemirror_mode": {
    "name": "ipython",
    "version": 3
   },
   "file_extension": ".py",
   "mimetype": "text/x-python",
   "name": "python",
   "nbconvert_exporter": "python",
   "pygments_lexer": "ipython3",
   "version": "3.6.5"
  }
 },
 "nbformat": 4,
 "nbformat_minor": 2
}
