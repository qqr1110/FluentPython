{
 "cells": [
  {
   "cell_type": "markdown",
   "metadata": {},
   "source": [
    "# 字符与编码\n",
    "## 字符标识\n",
    "unicode是目前最流行的字符标识标准，在该标准中以4~6个十六进制数字标识一个字符，例如A的unicode标识为U+0041（共2字节，第一个00表示空位，实际上仅需要一个字节表示即可，python3.3+会对str的内存表示做动态优化以达到最佳内存使用）\n",
    "## 编码\n",
    "编码表示在字符标识和字节序列之间转换时使用的算法，如UTF-8编码，A（U+0041）被编码为\\x41\\x00两个字节。"
   ]
  },
  {
   "cell_type": "code",
   "execution_count": 7,
   "metadata": {},
   "outputs": [
    {
     "name": "stdout",
     "output_type": "stream",
     "text": [
      "4\n",
      "b'caf\\xc3\\xa9'\n",
      "5\n",
      "café\n"
     ]
    }
   ],
   "source": [
    "s = 'café'\n",
    "print(len(s))\n",
    "# 'é'被编码为\\xc3\\xa9两个字节,被存储为bytes类型\n",
    "b = s.encode('utf8')\n",
    "# print bytes时会将能用ASCII解码的字符直接打印（utf8兼容ASCII）\n",
    "print(b)\n",
    "print(len(b))\n",
    "print(b.decode('utf8'))"
   ]
  },
  {
   "cell_type": "markdown",
   "metadata": {},
   "source": [
    "## 字节概要\n",
    "Python内置两种基本二进制序列类型：bytes和bytearay，分别为不可变和可变类型，其元素（一个字节）被视为一个uint8（0~255）。"
   ]
  },
  {
   "cell_type": "code",
   "execution_count": 10,
   "metadata": {},
   "outputs": [
    {
     "name": "stdout",
     "output_type": "stream",
     "text": [
      "b'caf\\xc3\\xa9'\n",
      "99\n",
      "b'af\\xc3\\xa9'\n",
      "bytearray(b'caf\\xc3\\xa9')\n",
      "bytearray(b'caf\\xc3\\x01')\n"
     ]
    },
    {
     "ename": "TypeError",
     "evalue": "'bytes' object does not support item assignment",
     "output_type": "error",
     "traceback": [
      "\u001b[1;31m---------------------------------------------------------------------------\u001b[0m",
      "\u001b[1;31mTypeError\u001b[0m                                 Traceback (most recent call last)",
      "\u001b[1;32m<ipython-input-10-dcd5ccee556a>\u001b[0m in \u001b[0;36m<module>\u001b[1;34m()\u001b[0m\n\u001b[0;32m      8\u001b[0m \u001b[0mcafe_arr\u001b[0m\u001b[1;33m[\u001b[0m\u001b[1;33m-\u001b[0m\u001b[1;36m1\u001b[0m\u001b[1;33m]\u001b[0m \u001b[1;33m=\u001b[0m \u001b[1;36m1\u001b[0m\u001b[1;33m\u001b[0m\u001b[0m\n\u001b[0;32m      9\u001b[0m \u001b[0mprint\u001b[0m\u001b[1;33m(\u001b[0m\u001b[0mcafe_arr\u001b[0m\u001b[1;33m)\u001b[0m\u001b[1;33m\u001b[0m\u001b[0m\n\u001b[1;32m---> 10\u001b[1;33m \u001b[0mcafe\u001b[0m\u001b[1;33m[\u001b[0m\u001b[1;33m-\u001b[0m\u001b[1;36m1\u001b[0m\u001b[1;33m]\u001b[0m \u001b[1;33m=\u001b[0m \u001b[1;36m1\u001b[0m\u001b[1;33m\u001b[0m\u001b[0m\n\u001b[0m",
      "\u001b[1;31mTypeError\u001b[0m: 'bytes' object does not support item assignment"
     ]
    }
   ],
   "source": [
    "cafe = bytes('café', encoding='utf-8')\n",
    "print(cafe)\n",
    "print(cafe[0])\n",
    "# 一般而言，可切片类型的切片结果仍然是序列本身。元素有自己的类型。像s[0] == s[:1]仅对str成立\n",
    "print(cafe[1:])\n",
    "cafe_arr = bytearray(cafe)\n",
    "print(cafe_arr)\n",
    "# bytearray可变\n",
    "cafe_arr[-1] = 1\n",
    "print(cafe_arr)\n",
    "# bytes不可变\n",
    "cafe[-1] = 1"
   ]
  },
  {
   "cell_type": "markdown",
   "metadata": {},
   "source": [
    "对于二进制序列来说，适用于str的endswith、replace、strip、translate、upper等常用方法同样使用与它，此外如果正则re模块使用二进制序列编译，则也能处理二进制序列的识别（一般不会这么做）\n",
    "\n",
    "其他用于创建bytes或bytearray的方法有：一个str对象和encoding参数、一个提供0~255的可迭代对象、一个实现缓冲协议的对象（bytes、bytearray、memoryview、array.array），此时会复制源对象的字节序列。"
   ]
  },
  {
   "cell_type": "code",
   "execution_count": 17,
   "metadata": {},
   "outputs": [
    {
     "name": "stdout",
     "output_type": "stream",
     "text": [
      "b'\\xff\\xff\\x01\\x00\\x01\\x00\\x00\\x00\\x01\\x00'\n",
      "255\n"
     ]
    }
   ],
   "source": [
    "import array\n",
    "# 创建短整型（2字节int）数组\n",
    "numbers = array.array('h', [-1, 1, 1, 0, 1])\n",
    "# 表示为10个uint8\n",
    "octets = bytes(numbers)\n",
    "print(octets)\n",
    "print(octets[0])"
   ]
  },
  {
   "cell_type": "markdown",
   "metadata": {},
   "source": [
    "# 结构体与内存视图\n",
    "1.struct用于将字节序列bytes、bytearray同时也能处理memoryview将其进行拆解并打包为元组（也可反向生成字节序列）。\n",
    "\n",
    "2.memoryview使用内存共享机制（可指定展示方式），可以访问其他二进制序列、array.array、数据切片的数据并进行修改，但不会复制字节数据。"
   ]
  },
  {
   "cell_type": "code",
   "execution_count": 19,
   "metadata": {},
   "outputs": [
    {
     "name": "stdout",
     "output_type": "stream",
     "text": [
      "b'\\xff\\xd8\\xff\\xe0\\x00\\x10JFIF'\n"
     ]
    },
    {
     "data": {
      "text/plain": [
       "(b'\\xff\\xd8\\xff', b'\\xe0\\x00\\x10', 17994, 17993)"
      ]
     },
     "execution_count": 19,
     "metadata": {},
     "output_type": "execute_result"
    }
   ],
   "source": [
    "import struct\n",
    "fmt = '<3s3sHH' # 拆为两个3字节序列，两个uint16\n",
    "with open('OIP.jpg', 'rb') as fp:\n",
    "    # 创建memoryview不复制数据\n",
    "    img = memoryview(fp.read())\n",
    "# 创建memoryview切片（memoryview类型）不复制数据\n",
    "header = img[:10]\n",
    "print(bytes(header)) # 创建bytes，需要复制前10个字节的数据\n",
    "struct.unpack(fmt, header) # 对10bytes的bytes进行结构化拆解并打包为元组"
   ]
  },
  {
   "cell_type": "markdown",
   "metadata": {},
   "source": [
    "# 编解码器\n",
    "python内置很多编解码器\n",
    "\n",
    "当编码解码器不一致时将会出现解码乱码或编解码异常,多数非utf编码的编码器只能处理unicode中一小部分字符标识，当要编码的文本字符编码器不支持时会抛出UnicodeEncodeError问题。当把二进制序列转为文本时，，遇到无法解码的字节序列会抛出UnicodeDecodeError。"
   ]
  },
  {
   "cell_type": "code",
   "execution_count": 22,
   "metadata": {},
   "outputs": [
    {
     "name": "stdout",
     "output_type": "stream",
     "text": [
      "latin1\tb'El Ni\\xf1o'\n",
      "utf8\tb'El Ni\\xc3\\xb1o'\n",
      "utf16\tb'\\xff\\xfeE\\x00l\\x00 \\x00N\\x00i\\x00\\xf1\\x00o\\x00'\n"
     ]
    }
   ],
   "source": [
    "# 不同编码器编码的字节序列\n",
    "for codec in ['latin1', 'utf8', 'utf16']:\n",
    "    print(codec, 'El Niño'.encode(codec), sep='\\t')"
   ]
  },
  {
   "cell_type": "code",
   "execution_count": 25,
   "metadata": {},
   "outputs": [
    {
     "name": "stdout",
     "output_type": "stream",
     "text": [
      "Montréal\n",
      "Montréal\n",
      "MontrИal\n"
     ]
    },
    {
     "ename": "UnicodeDecodeError",
     "evalue": "'utf-8' codec can't decode byte 0xe9 in position 5: invalid continuation byte",
     "output_type": "error",
     "traceback": [
      "\u001b[1;31m---------------------------------------------------------------------------\u001b[0m",
      "\u001b[1;31mUnicodeDecodeError\u001b[0m                        Traceback (most recent call last)",
      "\u001b[1;32m<ipython-input-25-0931d6ba1652>\u001b[0m in \u001b[0;36m<module>\u001b[1;34m()\u001b[0m\n\u001b[0;32m      4\u001b[0m \u001b[0mprint\u001b[0m\u001b[1;33m(\u001b[0m\u001b[0moctets\u001b[0m\u001b[1;33m.\u001b[0m\u001b[0mdecode\u001b[0m\u001b[1;33m(\u001b[0m\u001b[1;34m'iso8859-1'\u001b[0m\u001b[1;33m)\u001b[0m\u001b[1;33m)\u001b[0m\u001b[1;33m\u001b[0m\u001b[0m\n\u001b[0;32m      5\u001b[0m \u001b[0mprint\u001b[0m\u001b[1;33m(\u001b[0m\u001b[0moctets\u001b[0m\u001b[1;33m.\u001b[0m\u001b[0mdecode\u001b[0m\u001b[1;33m(\u001b[0m\u001b[1;34m'koi8-r'\u001b[0m\u001b[1;33m)\u001b[0m\u001b[1;33m)\u001b[0m\u001b[1;33m\u001b[0m\u001b[0m\n\u001b[1;32m----> 6\u001b[1;33m \u001b[0mprint\u001b[0m\u001b[1;33m(\u001b[0m\u001b[0moctets\u001b[0m\u001b[1;33m.\u001b[0m\u001b[0mdecode\u001b[0m\u001b[1;33m(\u001b[0m\u001b[1;34m'utf8'\u001b[0m\u001b[1;33m)\u001b[0m\u001b[1;33m)\u001b[0m\u001b[1;33m\u001b[0m\u001b[0m\n\u001b[0m",
      "\u001b[1;31mUnicodeDecodeError\u001b[0m: 'utf-8' codec can't decode byte 0xe9 in position 5: invalid continuation byte"
     ]
    }
   ],
   "source": [
    "# 使用不同解码器解码相同字节序列\n",
    "octets = b'Montr\\xe9al'\n",
    "print(octets.decode('cp1252'))\n",
    "print(octets.decode('iso8859-1'))\n",
    "print(octets.decode('koi8-r'))\n",
    "# utf8无法解码，\\xe无法解码\n",
    "print(octets.decode('utf8'))"
   ]
  },
  {
   "cell_type": "markdown",
   "metadata": {},
   "source": [
    "# 文本文件处理最佳实践\n",
    "## 三明治原则\n",
    "1.尽早将输入的字节序列（文件）转为字符串（解码）后操作。\n",
    "2.业务处理只针对字符串\n",
    "3.尽量晚的转换为字节序列（编码）再进行存储\n",
    "\n",
    "如：使用open函数读取文件时会做解码，my_file.read()如果不指定以二进制模式读取则会返回解码好的字符串对象，my_file.write(text)中text是要写入的字符串，编码交给write函数。\n",
    "\n",
    "## 始终指定编解码方式\n",
    "\n",
    "#### 读取文件和写入文件最好指定统一编解码方法，以免使用默认方式造成不必要的麻烦。"
   ]
  }
 ],
 "metadata": {
  "kernelspec": {
   "display_name": "Python 3",
   "language": "python",
   "name": "python3"
  },
  "language_info": {
   "codemirror_mode": {
    "name": "ipython",
    "version": 3
   },
   "file_extension": ".py",
   "mimetype": "text/x-python",
   "name": "python",
   "nbconvert_exporter": "python",
   "pygments_lexer": "ipython3",
   "version": "3.6.5"
  }
 },
 "nbformat": 4,
 "nbformat_minor": 2
}
