{
 "cells": [
  {
   "cell_type": "markdown",
   "metadata": {},
   "source": [
    "# 高维Vector\n",
    "本章继续对Vector进行扩展，以Vector2D为基础定义多维向量，希望多维向量支持以下功能：  \n",
    "1.实现基本的序列协议\\__len__和\\__getitem__  \n",
    "2.正确展示超高维向量  \n",
    "3.切片支持，用于生成新的Vector对象  \n",
    "4.基于\\__format__实现新的格式语言扩展\n",
    "## 序列式构造\n",
    "序列类型的构造方法一般接受可迭代的对象为参数，因此新的Vector没有采用类似于Vector2D的Vector2D(3, 4)的构造方式。"
   ]
  },
  {
   "cell_type": "code",
   "execution_count": 16,
   "metadata": {},
   "outputs": [],
   "source": [
    "from array import array\n",
    "import reprlib\n",
    "import math\n",
    "import functools\n",
    "import numbers\n",
    "import itertools\n",
    "import operator\n",
    "\n",
    "class Vector:\n",
    "    typecode = 'd'\n",
    "    # 声明的便捷属性\n",
    "    shortcut_names = 'xyzt'\n",
    "    \n",
    "    def __init__(self, components):\n",
    "        # 这里没有使用双下划线来使用python的名称修改机制，仅用单下划线声明_components为私有（或受保护的），但个人认为这种方式\n",
    "        # 不如使用双下划线，因为即便子类使用同名属性，python的改名机制会使得两种属性都同时存在于子类实例中。\n",
    "        self._components = array(self.typecode, components)\n",
    "    \n",
    "    def __iter__(self):\n",
    "        return iter(self._components)\n",
    "    \n",
    "    def __repr__(self):\n",
    "        # 如果维度超过6希望利用...表示，因此这里使用reprlib.repr，然后做了进一步的处理来展示。也可使用类似于下面str的方式交给list处理。\n",
    "        components = reprlib.repr(self._components)\n",
    "        components = components[components.find('['):-1]\n",
    "        return 'Vector({})'.format(components)\n",
    "    \n",
    "    def _str__(self):\n",
    "        # 这里使用tuple来展示，tuple的str方法会对超过6个的元素做省略展示，如果Vector分量很多，需要复制全部分量创建元组会有一定开销。\n",
    "        return str(tuple(self))\n",
    "    \n",
    "    def __bytes__(self):\n",
    "        # 记录typecode的ascii编码+将对象转为array.array类型后再进行字节化\n",
    "        # array.array默认以8B双精度浮点数存储每一个元素，因此共16个字节 + 额外标记'd'共17字节\n",
    "        return (bytes(self.typecode, 'ascii') + bytes(array(self.typecode, self._components)))\n",
    "    \n",
    "    def __eq__(self, other):\n",
    "        # 这里使用迭代比较的方式确定长度以及各个分量相等，而不是使用简单的构造tuple后交给元组判断相等，因为当分量较多时创建元组使得效率低下。\n",
    "        return (len(self) == len(other) and all(a == b for a, b in zip(self, other)))\n",
    "    \n",
    "    def __hash__(self):\n",
    "        # 利用归约函数实现对各个分量的hash值求异或。\n",
    "        hashes = (hash(x) for x in self)\n",
    "        return functools.reduce(operator.xor, hashes, 0)\n",
    "    \n",
    "    def __abs__(self):\n",
    "        return math.sqrt(sum(x * x for x in self.components))\n",
    "    \n",
    "    def __bool__(self):\n",
    "        return bool(abs(self))\n",
    "    \n",
    "    def __len__(self):\n",
    "        return len(self.components)\n",
    "    \n",
    "    def __getitem__(self, index):\n",
    "        cls = type(self)\n",
    "        # 如果传入的是切片，则利用array.array对切片的支持啊重新创建一个Vector对象来模拟内置序列的行为。\n",
    "        # 如果没有内置的序列来提供对切片的支持，则可能需要使用slice对象的indices(len)方法生成标准的起、始、步长参数。\n",
    "        if isinstance(index, slice):\n",
    "            return cls(self._components[index])\n",
    "        elif isinstance(index, numbers.Integral):\n",
    "            return self._components[index]\n",
    "        else:\n",
    "            # 抛出的异常应当和内置序列类型的相同。\n",
    "            msg = '{.__name__} indices must be integers'\n",
    "            raise TypeError(msg.format(cls))\n",
    "            \n",
    "    def __getattr__(self, name):\n",
    "        # 当属性查找失败后会调用此方法，因此当使用‘xyzt’得到元素时就会调用此方法去得到相应的坐标值。\n",
    "        # 另一方面要控制实例创建‘xyzt’属性或对其进行赋值。\n",
    "        cls = type(self)\n",
    "        if len(name) == 1:\n",
    "            pos = cls.shortcut_names.find(name)\n",
    "            if 0 <= pos < len(self._components):\n",
    "                return self._components[pos]\n",
    "        msg = '{.__name__!r} object has no attribute {!r}'\n",
    "        raise AttributeError(msg.format(cls, name))\n",
    "        \n",
    "    def __setattr__(self, name, value):\n",
    "        cls = type(self)\n",
    "        # 对试图添加'a' to 'z'的属性加以限制。如果是添加‘xyzt’这些已定义的快结属性，则提示只读。\n",
    "        # 对实例属性的限制不能使用__slots__加以限制，__slots__只用于属性存储优化。\n",
    "        if len(name) == 1:\n",
    "            if name in cls.shortcut_names:\n",
    "                error = 'readonly attribute {attr_name!r}'\n",
    "            elif name.islower():\n",
    "                error = \"can't set attribute 'a' to 'z' in {cls_name!r}\"\n",
    "            else:\n",
    "                error = ''\n",
    "            if error:\n",
    "                msg = error.format(cls_name = cls.__name__, attr_name = name)\n",
    "                raise AttributeError(msg)\n",
    "        super().__setattr__(name, value)\n",
    "        \n",
    "    def angle(self, n):\n",
    "        r = math.sqrt(sum(x * x for x in self[n:]))\n",
    "        a = math.atan2(r, self[n-1])\n",
    "        if (n == len(self) - 1) and (self[-1] < 0):\n",
    "            return math.pi * 2 - a\n",
    "        else:\n",
    "            return a\n",
    "        \n",
    "    def angles(self):\n",
    "        return (self.angle(n) for n in range(1, len(self)))\n",
    "    \n",
    "    def __format__(self, fmt_spec=''):\n",
    "        if fmt_spec.endwith('h'):\n",
    "            fmt_spec = fmt_spec[:-1]\n",
    "            # itertools.chain可连接不同的可迭代对象得到总的生成器表达式。\n",
    "            coords = itertools.chain([abs(self)] + self.angles())\n",
    "            outer_fmt = '<{}>'\n",
    "        else:\n",
    "            coords = self\n",
    "            outer_fmt = '({})'\n",
    "        # 生成表达式，当分量较多时可有效减少内存占用。\n",
    "        components = (format(c, fmt_spec) for c in coods)\n",
    "        return outer_fmt.format(', '.join(components))\n",
    "    \n",
    "    @classmethod\n",
    "    def frombytes(cls, octets):\n",
    "        # 将序列化的对象第一个字节转为字符，得到对象存储的单位标识。\n",
    "        typecode = chr(octets[0])\n",
    "        # 以单位标识读取剩余字节对应的内存空间，并使用存储的格式（默认使用的是双精度浮点数，因此每次memoryview以8B读取）对其进行读取。\n",
    "        memv = memoryview(octets[1:]).cast(typecode)\n",
    "        # 直接新建对象\n",
    "        return cls(memv)"
   ]
  },
  {
   "cell_type": "code",
   "execution_count": 15,
   "metadata": {},
   "outputs": [
    {
     "data": {
      "text/plain": [
       "slice(0, 5, 3)"
      ]
     },
     "execution_count": 15,
     "metadata": {},
     "output_type": "execute_result"
    }
   ],
   "source": [
    "# 重新整顿slice的起、始、步长，返回元组。\n",
    "slice(*slice(None, 10, 3).indices(5))"
   ]
  },
  {
   "cell_type": "code",
   "execution_count": 6,
   "metadata": {},
   "outputs": [
    {
     "data": {
      "text/plain": [
       "'Vector([0.0, 1.0, 2.0, 3.0, 4.0, ...])'"
      ]
     },
     "execution_count": 6,
     "metadata": {},
     "output_type": "execute_result"
    }
   ],
   "source": [
    "# 省略分量\n",
    "v1 = Vector(range(10))\n",
    "str(v1)"
   ]
  }
 ],
 "metadata": {
  "kernelspec": {
   "display_name": "Python 3",
   "language": "python",
   "name": "python3"
  },
  "language_info": {
   "codemirror_mode": {
    "name": "ipython",
    "version": 3
   },
   "file_extension": ".py",
   "mimetype": "text/x-python",
   "name": "python",
   "nbconvert_exporter": "python",
   "pygments_lexer": "ipython3",
   "version": "3.6.5"
  }
 },
 "nbformat": 4,
 "nbformat_minor": 2
}
